{
 "cells": [
  {
   "cell_type": "code",
   "execution_count": 1,
   "id": "566a9d2e",
   "metadata": {},
   "outputs": [],
   "source": [
    "import pandas as pd\n",
    "import numpy as np\n",
    "from sklearn.model_selection import train_test_split\n",
    "from sklearn.metrics import accuracy_score\n",
    "from sklearn.metrics import precision_score\n",
    "from sklearn.metrics import recall_score\n",
    "from sklearn.linear_model import LogisticRegression\n",
    "from sklearn.pipeline import make_pipeline\n",
    "#from sklearn.ensemble import RandomForestRegressor\n",
    "from sklearn import metrics\n",
    "from sklearn.pipeline import Pipeline\n",
    "from sklearn.compose import ColumnTransformer\n",
    "from sklearn.preprocessing import OrdinalEncoder\n",
    "from sklearn.preprocessing import OneHotEncoder\n",
    "from sklearn.preprocessing import StandardScaler\n",
    "from sklearn.linear_model import LogisticRegression\n",
    "from sklearn.neighbors import KNeighborsClassifier\n",
    "from sklearn.svm import SVC \n",
    "from sklearn.ensemble import RandomForestClassifier\n",
    "from sklearn.model_selection import cross_val_score\n",
    "from sklearn.metrics import f1_score"
   ]
  },
  {
   "cell_type": "code",
   "execution_count": 2,
   "id": "c9e7d4b8",
   "metadata": {},
   "outputs": [],
   "source": [
    "import warnings\n",
    "warnings.filterwarnings('ignore')"
   ]
  },
  {
   "cell_type": "code",
   "execution_count": 3,
   "id": "cfa0358e",
   "metadata": {},
   "outputs": [],
   "source": [
    "def preprocess_data():\n",
    "    \"\"\"\n",
    "    This function clean the dataframe\n",
    "    return the splitted train and test sets, \n",
    "    return the list of the numeric and categrial columns\n",
    "    \"\"\"\n",
    "    \n",
    "    df = pd.read_csv('data/output_1.csv')\n",
    "    df.drop(['coil','furnace Number','Temperature before finishing mill',\n",
    "             'Temperature after finishing mill','Thickness profile','Constriction_width'],axis=1, inplace = True)\n",
    "    num_attribs = df.select_dtypes(include=np.number).columns.tolist() \n",
    "    remove_attribs =['coil','is_constriction']\n",
    "    num_attribs = [i for i in num_attribs if i not in remove_attribs]\n",
    "    cat_attribs = ['analyse']\n",
    "    y= df['is_constriction'].copy().to_numpy()\n",
    "    X = df.drop('is_constriction', axis=1)\n",
    "    X_train, X_test, y_train, y_test = train_test_split(X,y,test_size=1/5,random_state=0,stratify = y) \n",
    "\n",
    "    return X_train, X_test, y_train, y_test, num_attribs, cat_attribs\n",
    "    "
   ]
  },
  {
   "cell_type": "code",
   "execution_count": 4,
   "id": "10e7f99a",
   "metadata": {},
   "outputs": [],
   "source": [
    "def build_model(model, num_attribs, cat_attribs):\n",
    "    \n",
    "    num_tr_pipeline = Pipeline([\n",
    "        ('std_scaler', StandardScaler()),])\n",
    "    \n",
    "    cat_tr_pipeline = Pipeline([\n",
    "        ('one_hot_encoder', OneHotEncoder(sparse=False, handle_unknown='ignore')),])\n",
    "    preprocessors = ColumnTransformer([\n",
    "        (\"num_tr_pipeline\", num_tr_pipeline, num_attribs),\n",
    "        (\"cat_tr_pipeline\", cat_tr_pipeline, cat_attribs),])\n",
    "    \n",
    "    pipe =Pipeline([\n",
    "    ('prepocessors',preprocessors),\n",
    "    ('classifier_model',model),])\n",
    "    \n",
    "    return pipe"
   ]
  },
  {
   "cell_type": "code",
   "execution_count": 5,
   "id": "f48c53d7",
   "metadata": {},
   "outputs": [],
   "source": [
    "def evaluate_models():\n",
    "    \n",
    "    X_train, X_test, y_train, y_test, num_attribs, cat_attribs = preprocess_data()\n",
    "    \n",
    "    models = {\"Logestic_Regression\": LogisticRegression(solver = 'liblinear'),\n",
    "              \"Random_Forest\": RandomForestClassifier(n_estimators=200),\n",
    "              \"knn\": KNeighborsClassifier(n_neighbors=5,p=3,metric ='euclidean'),\n",
    "              'SVM': SVC(kernel='linear') }\n",
    "    result = []\n",
    "    \n",
    "    for model_name, model in models.items():\n",
    "        print(f\"{model_name} is created\")\n",
    "        pipe = build_model(model, num_attribs, cat_attribs)\n",
    "        pipe.fit(X_train,y_train)\n",
    "        y_pred = pipe.predict(X_test)\n",
    "        \n",
    "        score = pipe.score(X_test, y_test)\n",
    "        cm = metrics.confusion_matrix(y_test, y_pred) # confusion matrix\n",
    "        f1 = f1_score(y_test, y_pred)\n",
    "\n",
    "        result.append({\"Model\":model_name, \"Score\":score, 'Confusion_matrix':cm, 'F1_score':f1})\n",
    "        \n",
    "    result_df = pd.DataFrame(result)\n",
    "    \n",
    "    return result_df\n",
    "        \n",
    "        \n",
    "    "
   ]
  },
  {
   "cell_type": "code",
   "execution_count": 6,
   "id": "cb492f5a",
   "metadata": {},
   "outputs": [
    {
     "name": "stdout",
     "output_type": "stream",
     "text": [
      "Logestic_Regression is created\n",
      "Random_Forest is created\n",
      "knn is created\n",
      "SVM is created\n",
      "                 Model   Score         Confusion_matrix  F1_score\n",
      "0  Logestic_Regression  0.9285  [[1845, 10], [133, 12]]  0.143713\n",
      "1        Random_Forest  0.9295  [[1816, 39], [102, 43]]  0.378855\n",
      "2                  knn  0.9340   [[1822, 33], [99, 46]]  0.410714\n",
      "3                  SVM  0.9305    [[1852, 3], [136, 9]]  0.114650\n"
     ]
    }
   ],
   "source": [
    "def start_modeling():\n",
    "   print(evaluate_models().head())\n",
    "\n",
    "start_modeling()\n",
    "    "
   ]
  },
  {
   "cell_type": "code",
   "execution_count": null,
   "id": "591e61de",
   "metadata": {},
   "outputs": [],
   "source": []
  }
 ],
 "metadata": {
  "kernelspec": {
   "display_name": "wikipedia_scraper",
   "language": "python",
   "name": "wikipedia_scraper"
  },
  "language_info": {
   "codemirror_mode": {
    "name": "ipython",
    "version": 3
   },
   "file_extension": ".py",
   "mimetype": "text/x-python",
   "name": "python",
   "nbconvert_exporter": "python",
   "pygments_lexer": "ipython3",
   "version": "3.8.8"
  }
 },
 "nbformat": 4,
 "nbformat_minor": 5
}
