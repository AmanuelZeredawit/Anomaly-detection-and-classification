{
 "cells": [
  {
   "cell_type": "code",
   "execution_count": 7,
   "metadata": {},
   "outputs": [],
   "source": [
    "import pandas as pd\n",
    "import numpy as np\n",
    "from sklearn.model_selection import train_test_split\n",
    "from sklearn.utils import resample\n",
    "from sklearn.metrics import accuracy_score\n",
    "from sklearn.metrics import precision_score\n",
    "from sklearn.metrics import recall_score\n",
    "from sklearn.linear_model import LogisticRegression\n",
    "from sklearn.pipeline import make_pipeline\n",
    "from sklearn import metrics\n",
    "from sklearn.pipeline import FeatureUnion, Pipeline\n",
    "from sklearn.compose import ColumnTransformer\n",
    "from sklearn.preprocessing import OrdinalEncoder\n",
    "from sklearn.preprocessing import OneHotEncoder\n",
    "from sklearn.preprocessing import StandardScaler\n",
    "from sklearn.linear_model import LogisticRegression\n",
    "from sklearn.neighbors import KNeighborsClassifier\n",
    "from sklearn.svm import SVC \n",
    "from sklearn.ensemble import RandomForestClassifier\n",
    "from sklearn.tree import DecisionTreeClassifier\n",
    "from sklearn.discriminant_analysis import QuadraticDiscriminantAnalysis\n",
    "from sklearn.model_selection import cross_val_score\n",
    "from sklearn.metrics import f1_score\n",
    "from sklearn.metrics import fbeta_score\n",
    "import math\n"
   ]
  },
  {
   "cell_type": "code",
   "execution_count": 8,
   "metadata": {},
   "outputs": [],
   "source": [
    "def preprocess_data():\n",
    "    \"\"\"\n",
    "    This function clean the dataframe\n",
    "    return the splitted train and test sets, \n",
    "    return the list of the numeric and categrial columns\n",
    "    \"\"\"\n",
    "    \n",
    "    df = pd.read_csv('data/output_1.csv')\n",
    "    df.drop(['coil','furnace Number','Temperature before finishing mill',\n",
    "             'Temperature after finishing mill','Thickness profile','Constriction_width'],axis=1, inplace = True)\n",
    "    \n",
    "    return df\n",
    "    "
   ]
  },
  {
   "cell_type": "code",
   "execution_count": 9,
   "metadata": {},
   "outputs": [],
   "source": [
    "def balance_sample_down():\n",
    "    df =preprocess_data()\n",
    "    # Separate majority and minority classes\n",
    "    df_majority = df[df.is_constriction == 0]\n",
    "    df_minority = df[df.is_constriction == 1]\n",
    "    \n",
    " \n",
    "    #downsample majority class\n",
    "    df_majority_downsampled = resample(df_majority, \n",
    "                                 replace=False,     # sample with replacement\n",
    "                                 n_samples = 1725,    # to match majority class\n",
    "                                 random_state =123) # reproducible results\n",
    " \n",
    "    # Combine majority class with upsampled minority class\n",
    "    df_downsampled = pd.concat([df_majority_downsampled, df_minority])\n",
    " \n",
    "    # Display new class counts\n",
    "    print(\"Down sampled: \", df_downsampled.is_constriction.value_counts())\n",
    "\n",
    "    y = df_downsampled.is_constriction\n",
    "    X = df_downsampled.drop('is_constriction', axis=1)\n",
    "\n",
    "    X_train, X_test, y_train, y_test = train_test_split(X,y,test_size=1/5,random_state=0) \n",
    "\n",
    "    return X_train, X_test, y_train, y_test, df_downsampled\n",
    "\n",
    "\n",
    "\n"
   ]
  },
  {
   "cell_type": "code",
   "execution_count": 10,
   "metadata": {},
   "outputs": [],
   "source": [
    "def build_model(model,df):\n",
    "\n",
    "    num_attribs = df.select_dtypes(include=np.number).columns.tolist() \n",
    "    remove_attribs =['coil','is_constriction']\n",
    "    num_attribs = [i for i in num_attribs if i not in remove_attribs]\n",
    "    cat_attribs = ['analyse']\n",
    "    \n",
    "    num_tr_pipeline = Pipeline([\n",
    "        ('std_scaler', StandardScaler()),])\n",
    "    \n",
    "    cat_tr_pipeline = Pipeline([\n",
    "        ('one_hot_encoder', OneHotEncoder(sparse=False, handle_unknown='ignore')),])\n",
    "    preprocessors = ColumnTransformer([\n",
    "        (\"num_tr_pipeline\", num_tr_pipeline, num_attribs),\n",
    "        (\"cat_tr_pipeline\", cat_tr_pipeline, cat_attribs),])\n",
    "    \n",
    "    pipe =Pipeline([\n",
    "    ('prepocessors',preprocessors),\n",
    "    ('classifier_model',model),])\n",
    "    \n",
    "    return pipe"
   ]
  },
  {
   "cell_type": "code",
   "execution_count": 11,
   "metadata": {},
   "outputs": [],
   "source": [
    "def evaluate_models(balance_method):\n",
    "\n",
    "    result = [] \n",
    "    \n",
    "    print(\"Model with down sampled majority class\")\n",
    "    X_train, X_test, y_train, y_test,df = balance_sample_down()\n",
    "\n",
    "    model_name = \"Random Forest\"\n",
    "    model = RandomForestClassifier(n_estimators=200)\n",
    "    pipe = build_model(model, df)\n",
    "    pipe.fit(X_train,y_train)\n",
    "    y_pred = pipe.predict(X_test)\n",
    "    score = pipe.score(X_test, y_test)\n",
    "    cm = metrics.confusion_matrix(y_test, y_pred) # confusion matrix\n",
    "    f1 = f1_score(y_test, y_pred)\n",
    "    f2 = fbeta_score(y_test, y_pred, beta=2, average='binary')\n",
    "    f_beta = fbeta_score(y_test, y_pred, average='macro', beta=0.5)\n",
    "\n",
    "    result.append({\"Model\": model_name, \"Score\":score, 'Confusion_matrix':cm, \n",
    "                       'F1_score':f1, 'F2_score':f2, 'Fbeta_score':f_beta})\n",
    "    \n",
    "        \n",
    "    result_df = pd.DataFrame(result)\n",
    "    \n",
    "    return result_df\n",
    "        \n",
    "        \n",
    "    "
   ]
  },
  {
   "cell_type": "code",
   "execution_count": 12,
   "metadata": {},
   "outputs": [
    {
     "name": "stdout",
     "output_type": "stream",
     "text": [
      "Model with down sampled majority class\n",
      "Down sampled:  0    1725\n",
      "1    1725\n",
      "Name: is_constriction, dtype: int64\n"
     ]
    },
    {
     "data": {
      "text/html": [
       "<div>\n",
       "<style scoped>\n",
       "    .dataframe tbody tr th:only-of-type {\n",
       "        vertical-align: middle;\n",
       "    }\n",
       "\n",
       "    .dataframe tbody tr th {\n",
       "        vertical-align: top;\n",
       "    }\n",
       "\n",
       "    .dataframe thead th {\n",
       "        text-align: right;\n",
       "    }\n",
       "</style>\n",
       "<table border=\"1\" class=\"dataframe\">\n",
       "  <thead>\n",
       "    <tr style=\"text-align: right;\">\n",
       "      <th></th>\n",
       "      <th>Model</th>\n",
       "      <th>Score</th>\n",
       "      <th>Confusion_matrix</th>\n",
       "      <th>F1_score</th>\n",
       "      <th>F2_score</th>\n",
       "      <th>Fbeta_score</th>\n",
       "    </tr>\n",
       "  </thead>\n",
       "  <tbody>\n",
       "    <tr>\n",
       "      <th>0</th>\n",
       "      <td>Random Forest</td>\n",
       "      <td>0.834783</td>\n",
       "      <td>[[300, 56], [58, 276]]</td>\n",
       "      <td>0.828829</td>\n",
       "      <td>0.827338</td>\n",
       "      <td>0.834626</td>\n",
       "    </tr>\n",
       "  </tbody>\n",
       "</table>\n",
       "</div>"
      ],
      "text/plain": [
       "           Model     Score        Confusion_matrix  F1_score  F2_score  \\\n",
       "0  Random Forest  0.834783  [[300, 56], [58, 276]]  0.828829  0.827338   \n",
       "\n",
       "   Fbeta_score  \n",
       "0     0.834626  "
      ]
     },
     "execution_count": 12,
     "metadata": {},
     "output_type": "execute_result"
    }
   ],
   "source": [
    "\n",
    "test1_matrix = evaluate_models('up_sampling')\n",
    "test1_matrix.head()\n",
    "    "
   ]
  }
 ],
 "metadata": {
  "kernelspec": {
   "display_name": "Python 3.10.0 ('mittal_env': venv)",
   "language": "python",
   "name": "python3"
  },
  "language_info": {
   "codemirror_mode": {
    "name": "ipython",
    "version": 3
   },
   "file_extension": ".py",
   "mimetype": "text/x-python",
   "name": "python",
   "nbconvert_exporter": "python",
   "pygments_lexer": "ipython3",
   "version": "3.10.0"
  },
  "orig_nbformat": 4,
  "vscode": {
   "interpreter": {
    "hash": "97b8a450051de11ca571522d04ce2bc7e0cc66366ccc887c2db49044291f3857"
   }
  }
 },
 "nbformat": 4,
 "nbformat_minor": 2
}
