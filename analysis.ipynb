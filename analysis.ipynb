{
 "cells": [
  {
   "cell_type": "code",
   "execution_count": 15,
   "metadata": {},
   "outputs": [],
   "source": [
    "import pandas as pd\n",
    "import numpy as np\n",
    "import seaborn as np\n",
    "from matplotlib import pyplot as plt\n",
    "import re"
   ]
  },
  {
   "cell_type": "code",
   "execution_count": 16,
   "metadata": {},
   "outputs": [],
   "source": [
    "def extract_measurement(b_list):\n",
    "\n",
    "    # this function extract the data points from B3,B4,B5 and \n",
    "    # And return clean data to get_measurment() in dictionay format \n",
    "    \n",
    "\n",
    "\n",
    "    x_spos = b_list.index('LengthValue') # starting index of the x values\n",
    "    y_spos = b_list.index('Value')# starting index of the y values\n",
    "    y_epos = len(b_list)# the ending pos of y values\n",
    "    x = b_list[x_spos + 1:y_spos-1]\n",
    "    y = b_list[y_spos + 1: y_epos -2]\n",
    "    xy_dict = dict(zip(x,y))\n",
    "    print(len(xy_dict))\n",
    "\n",
    "    # need some extra work to clean the data\n",
    "    \n",
    "\n",
    "\n",
    "    return xy_dict\n",
    "\n",
    "\n",
    "\n",
    "\n",
    "def get_measurment(coil_id):\n",
    "\n",
    "    # this function load the data for B3,B4,B5 measurments\n",
    "    # It split the data based on \";\"\n",
    "    # It calls extract_measuremnt() function to extract the \n",
    "    # clean data pairs for B3,B4,B5\n",
    "    # And return the values in dictionary format\n",
    "\n",
    "    print('************************************')\n",
    "    print(\"coil Id: \", coil_id)\n",
    "    root_directory = \"data/SampleProcessedData/\"\n",
    "\n",
    "    b3_df = pd.read_csv(root_directory + str(coil_id ) + \"B3.csv\")\n",
    "    b4_df = pd.read_csv(root_directory + str(coil_id ) + \"B4.csv\")\n",
    "    b5_df = pd.read_csv(root_directory + str(coil_id ) + \"B5.csv\")\n",
    "\n",
    "    b3_list = re.split(';', str(b3_df.columns))\n",
    "    b4_list = re.split(';', str(b4_df.columns))\n",
    "    b5_list = re.split(';', str(b5_df.columns))\n",
    "\n",
    "    b_lists = [b3_list,b4_list,b5_list]\n",
    "\n",
    "    all_B_list = [] # this list contain all xy_dict for B3,B4,B5(it is list of dictionaries)\n",
    "    for b_list in b_lists:\n",
    "        all_B_list.append(extract_measurement(b_list))\n",
    "        \n",
    "        #print(b_dict)\n",
    "        #print(\"###############################\")\n",
    "\n",
    "\n",
    "    print('*********************************')\n",
    "\n",
    "    # use this code as starting code\n",
    "    \n",
    "    # for dictionary in all_B_list:\n",
    "    #     for key in dictionary:\n",
    "    #         dictionary[float(key)] = float(dictionary[key])\n",
    "    \n",
    "    return all_B_list # return list of dictionaries\n",
    "    \n",
    "\n",
    "\n",
    "\n",
    "    \n",
    " \n",
    "    \n",
    "\n",
    "    "
   ]
  },
  {
   "cell_type": "code",
   "execution_count": 17,
   "metadata": {},
   "outputs": [
    {
     "name": "stdout",
     "output_type": "stream",
     "text": [
      "************************************\n",
      "coil Id:  290044\n",
      "1055\n",
      "1054\n",
      "1031\n",
      "*********************************\n"
     ]
    },
    {
     "ename": "RuntimeError",
     "evalue": "dictionary changed size during iteration",
     "output_type": "error",
     "traceback": [
      "\u001b[1;31m---------------------------------------------------------------------------\u001b[0m",
      "\u001b[1;31mRuntimeError\u001b[0m                              Traceback (most recent call last)",
      "Cell \u001b[1;32mIn [17], line 33\u001b[0m\n\u001b[0;32m     13\u001b[0m      \u001b[39mprint\u001b[39m(measurment)\n\u001b[0;32m     16\u001b[0m      \u001b[39m# for name,coil_id in coil_df['coil'].items():\u001b[39;00m\n\u001b[0;32m     17\u001b[0m           \n\u001b[0;32m     18\u001b[0m      \u001b[39m#      count += 1\u001b[39;00m\n\u001b[1;32m   (...)\u001b[0m\n\u001b[0;32m     27\u001b[0m           \n\u001b[0;32m     28\u001b[0m           \u001b[39m# write code to label observation\u001b[39;00m\n\u001b[1;32m---> 33\u001b[0m label_observation()\n",
      "Cell \u001b[1;32mIn [17], line 12\u001b[0m, in \u001b[0;36mlabel_observation\u001b[1;34m()\u001b[0m\n\u001b[0;32m      9\u001b[0m coil_df \u001b[39m=\u001b[39m pd\u001b[39m.\u001b[39mread_excel(\u001b[39m'\u001b[39m\u001b[39mdata/CoilDataInput.xlsx\u001b[39m\u001b[39m'\u001b[39m)\n\u001b[0;32m     10\u001b[0m count \u001b[39m=\u001b[39m \u001b[39m0\u001b[39m\n\u001b[1;32m---> 12\u001b[0m measurment \u001b[39m=\u001b[39m get_measurment(\u001b[39m290044\u001b[39;49m)\n\u001b[0;32m     13\u001b[0m \u001b[39mprint\u001b[39m(measurment)\n",
      "Cell \u001b[1;32mIn [16], line 59\u001b[0m, in \u001b[0;36mget_measurment\u001b[1;34m(coil_id)\u001b[0m\n\u001b[0;32m     57\u001b[0m \u001b[39m# use this code as starting code\u001b[39;00m\n\u001b[0;32m     58\u001b[0m \u001b[39mfor\u001b[39;00m dictionary \u001b[39min\u001b[39;00m all_B_list:\n\u001b[1;32m---> 59\u001b[0m     \u001b[39mfor\u001b[39;00m key \u001b[39min\u001b[39;00m dictionary:\n\u001b[0;32m     60\u001b[0m         dictionary[\u001b[39mfloat\u001b[39m(key)] \u001b[39m=\u001b[39m \u001b[39mfloat\u001b[39m(dictionary[key])\n\u001b[0;32m     62\u001b[0m \u001b[39mreturn\u001b[39;00m all_B_list\n",
      "\u001b[1;31mRuntimeError\u001b[0m: dictionary changed size during iteration"
     ]
    }
   ],
   "source": [
    "def label_observation():\n",
    "\n",
    "    # this function get the coil_Id and call the get_measurment()\n",
    "    # function to get the cleaned value for B3,B4 and B5 in dictionary format\n",
    "    # from the dictionary it checks if there is constriction or not\n",
    "    # and add the result to the coil_df\n",
    "\n",
    "     #load the dataset\n",
    "     coil_df = pd.read_excel('data/CoilDataInput.xlsx')\n",
    "     count = 0\n",
    "\n",
    "     measurment = get_measurment(290044)\n",
    "     print(measurment)\n",
    "\n",
    "\n",
    "     # for name,coil_id in coil_df['coil'].items():\n",
    "          \n",
    "     #      count += 1\n",
    "          \n",
    "     #      if count == 4:\n",
    "     #           exit()\n",
    "     #      try:\n",
    "     #           get_measurment(coil_id)\n",
    "     #      except:\n",
    "     #           print('not found')\n",
    "     #           continue\n",
    "          \n",
    "          # write code to label observation\n",
    "\n",
    "\n",
    "     \n",
    "\n",
    "label_observation()\n",
    "     \n",
    "\n",
    "\n",
    "     \n"
   ]
  },
  {
   "cell_type": "code",
   "execution_count": null,
   "metadata": {},
   "outputs": [],
   "source": [
    "def visualize_measurments():\n",
    "    pass"
   ]
  }
 ],
 "metadata": {
  "kernelspec": {
   "display_name": "Python 3.10.0 ('mittal_env': venv)",
   "language": "python",
   "name": "python3"
  },
  "language_info": {
   "codemirror_mode": {
    "name": "ipython",
    "version": 3
   },
   "file_extension": ".py",
   "mimetype": "text/x-python",
   "name": "python",
   "nbconvert_exporter": "python",
   "pygments_lexer": "ipython3",
   "version": "3.10.0"
  },
  "orig_nbformat": 4,
  "vscode": {
   "interpreter": {
    "hash": "c5a50055adfb9cb78cc343f7664b5f8c801c8bbeaee13e9d80bd33373611d5d1"
   }
  }
 },
 "nbformat": 4,
 "nbformat_minor": 2
}
