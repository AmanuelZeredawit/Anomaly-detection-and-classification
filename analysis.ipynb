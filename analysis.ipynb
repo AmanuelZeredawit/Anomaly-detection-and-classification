{
 "cells": [
  {
   "cell_type": "code",
   "execution_count": null,
   "metadata": {},
   "outputs": [],
   "source": [
    "import pandas as pd\n",
    "import numpy as np\n",
    "import seaborn as np\n",
    "from matplotlib import pyplot as plt\n",
    "import re"
   ]
  },
  {
   "cell_type": "markdown",
   "metadata": {},
   "source": [
    "arcelor_mittal\n",
    " -data\n",
    "  -SampleProcessedData\n",
    "   -290044B3.csv\n",
    "  -coilDataInput.xlsx\n",
    " -analysis.ipynb\n",
    " -model.ipynb\n",
    " -requiements.txt\n",
    " -README.md"
   ]
  },
  {
   "cell_type": "code",
   "execution_count": null,
   "metadata": {},
   "outputs": [],
   "source": [
    "def extract_measurement(b_list):\n",
    "\n",
    "    x_spos = b_list.index('LengthValue') # starting index of the x values\n",
    "    y_spos = b_list.index('Value')# starting index of the y values\n",
    "    y_epos = len(b_list)# the ending pos of y values\n",
    "    x = b_list[x_spos + 1:y_spos-1]\n",
    "    y = b_list[y_spos + 1: y_epos -2]\n",
    "    xy_dict = dict(zip(x,y))\n",
    "    print(len(xy_dict))\n",
    "\n",
    "    # need some extra work to clean the data\n",
    "\n",
    "    return xy_dict\n",
    "\n",
    "\n",
    "\n",
    "\n",
    "def get_measurment(coil_id):\n",
    "    print('************************************')\n",
    "    print(\"coil Id: \", coil_id)\n",
    "    root_directory = \"data/SampleProcessedData/\"\n",
    "\n",
    "    b3_df = pd.read_csv(root_directory + str(coil_id ) + \"B3.csv\")\n",
    "    b4_df = pd.read_csv(root_directory + str(coil_id ) + \"B4.csv\")\n",
    "    b5_df = pd.read_csv(root_directory + str(coil_id ) + \"B5.csv\")\n",
    "\n",
    "    b3_list = re.split(';', str(b3_df.columns))\n",
    "    b4_list = re.split(';', str(b4_df.columns))\n",
    "    b5_list = re.split(';', str(b5_df.columns))\n",
    "\n",
    "    b_lists = [b3_list,b4_list,b5_list]\n",
    "    for b_list in b_lists:\n",
    "        b_dict = extract_measurement(b_list)\n",
    "        #print(b_dict)\n",
    "        #print(\"###############################\")\n",
    "\n",
    "\n",
    "    print('*********************************')\n",
    "\n",
    "    # use this code as starting code\n",
    "    \n",
    "\n",
    "\n",
    "\n",
    "    \n",
    " \n",
    "    \n",
    "\n",
    "    "
   ]
  },
  {
   "cell_type": "code",
   "execution_count": null,
   "metadata": {},
   "outputs": [],
   "source": [
    "def label_observation():\n",
    "     #load the dataset\n",
    "     coil_df = pd.read_excel('data/CoilDataInput.xlsx')\n",
    "     count = 0\n",
    "     for name,coil_id in coil_df['coil'].items():\n",
    "          \n",
    "          count += 1\n",
    "          \n",
    "          if count == 4:\n",
    "               exit()\n",
    "          try:\n",
    "               get_measurment(coil_id)\n",
    "          except:\n",
    "               print('not found')\n",
    "               continue\n",
    "          \n",
    "          # write code to label observation\n",
    "\n",
    "\n",
    "     \n",
    "\n",
    "label_observation()\n",
    "     \n",
    "\n",
    "\n",
    "     \n"
   ]
  },
  {
   "cell_type": "code",
   "execution_count": null,
   "metadata": {},
   "outputs": [],
   "source": [
    "def visualize_measurments():\n",
    "    pass"
   ]
  }
 ],
 "metadata": {
  "kernelspec": {
   "display_name": "Python 3.10.0 ('mittal_env': venv)",
   "language": "python",
   "name": "python3"
  },
  "language_info": {
   "codemirror_mode": {
    "name": "ipython",
    "version": 3
   },
   "file_extension": ".py",
   "mimetype": "text/x-python",
   "name": "python",
   "nbconvert_exporter": "python",
   "pygments_lexer": "ipython3",
   "version": "3.10.0"
  },
  "orig_nbformat": 4,
  "vscode": {
   "interpreter": {
    "hash": "c5a50055adfb9cb78cc343f7664b5f8c801c8bbeaee13e9d80bd33373611d5d1"
   }
  }
 },
 "nbformat": 4,
 "nbformat_minor": 2
}
