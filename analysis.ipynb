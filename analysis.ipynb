{
 "cells": [
  {
   "cell_type": "code",
   "execution_count": 83,
   "metadata": {},
   "outputs": [],
   "source": [
    "import pandas as pd\n",
    "import numpy as np\n",
    "import seaborn as np\n",
    "from matplotlib import pyplot as plt\n",
    "import re"
   ]
  },
  {
   "cell_type": "code",
   "execution_count": 84,
   "metadata": {},
   "outputs": [],
   "source": [
    "global measurement"
   ]
  },
  {
   "cell_type": "code",
   "execution_count": 85,
   "metadata": {},
   "outputs": [],
   "source": [
    "def extract_measurement(b_list):\n",
    "\n",
    "    # this function extract the data points from B3,B4,B5 and \n",
    "    # And return clean data to get_measurment() in dictionay format \n",
    "    \n",
    "    x_spos = b_list.index('LengthValue') # starting index of the x values\n",
    "    y_spos = b_list.index('Value')# starting index of the y values\n",
    "    y_epos = len(b_list)# the ending pos of y values\n",
    "    \n",
    "    x = b_list[x_spos + 1:y_spos-1]\n",
    "    y = b_list[y_spos + 1: y_epos -2]\n",
    "\n",
    "    null_index = set() # a set to keep the index of null values in either x or y\n",
    "    \n",
    "    # loop over x and get the index of the 'null' elements\n",
    "    for index,value in enumerate(x):\n",
    "        if value == \"null\":\n",
    "            null_index.add(index)\n",
    "\n",
    "    # loop over y and get the index of the 'null' elements\n",
    "    for index,value in enumerate(y):\n",
    "        if value == \"null\":\n",
    "            null_index.add(index)    \n",
    "    \n",
    "\n",
    "    # removing the x,y pair with null value in either of them\n",
    "    x = [value for idx, value in enumerate(x) if idx not in null_index]\n",
    "    y = [value for idx, value in enumerate(y) if idx not in null_index]\n",
    "\n",
    "    # changing the elements of x and y from string to float\n",
    "    x_float =[float(item) for item in x]\n",
    "    y_float =[float(item) for item in y]\n",
    "\n",
    "    xy_dict = dict(zip(x_float,y_float)) # zip x and y  in dictionary\n",
    "    print(len(xy_dict))\n",
    "    #print(xy_dict)\n",
    "\n",
    "    \n",
    "    \n",
    "\n",
    "\n",
    "    return xy_dict\n",
    "\n",
    "\n",
    "\n",
    "\n",
    "def get_measurement(coil_id):\n",
    "\n",
    "    # this function load the data for B3,B4,B5 measurments\n",
    "    # It split the data based on \";\"\n",
    "    # It calls extract_measuremnt() function to extract the \n",
    "    # clean data pairs for B3,B4,B5\n",
    "    # And return the values in dictionary format\n",
    "\n",
    "    print('************************************')\n",
    "    print(\"coil Id: \", coil_id)\n",
    "    root_directory = \"data/SampleProcessedData/\"\n",
    "\n",
    "    b3_df = pd.read_csv(root_directory + str(coil_id ) + \"B3.csv\")\n",
    "    b4_df = pd.read_csv(root_directory + str(coil_id ) + \"B4.csv\")\n",
    "    b5_df = pd.read_csv(root_directory + str(coil_id ) + \"B5.csv\")\n",
    "\n",
    "    b3_list = re.split(';', str(b3_df.columns))\n",
    "    b4_list = re.split(';', str(b4_df.columns))\n",
    "    b5_list = re.split(';', str(b5_df.columns))\n",
    "\n",
    "    b_lists = [b3_list,b4_list,b5_list]\n",
    "\n",
    "    all_B_list = [] # this list contain all xy_dict for B3,B4,B5(it is list of dictionaries)\n",
    "    for b_list in b_lists:\n",
    "        all_B_list.append(extract_measurement(b_list))\n",
    "        \n",
    "    \n",
    "    print('*********************************')\n",
    "\n",
    "\n",
    "    \n",
    "    return all_B_list # return list of dictionaries\n",
    "    \n",
    "\n",
    "\n",
    "\n",
    "    \n",
    " \n",
    "    \n",
    "\n",
    "    "
   ]
  },
  {
   "cell_type": "code",
   "execution_count": 86,
   "metadata": {},
   "outputs": [],
   "source": [
    "def label_observation():\n",
    "\n",
    "    # this function get the coil_Id and call the get_measurment()\n",
    "    # function to get the cleaned value for B3,B4 and B5 in dictionary format\n",
    "    # from the dictionary it checks if there is constriction or not\n",
    "    # and add the result to the coil_df\n",
    "\n",
    "     #load the dataset\n",
    "     coil_df = pd.read_excel('data/CoilDataInput.xlsx')\n",
    "     count = 0\n",
    "\n",
    "     measurement = get_measurement(300090)\n",
    "     #print(measurement)\n",
    "\n",
    "     return measurement\n",
    "\n",
    "     \n",
    "\n",
    "\n",
    "\n",
    "     \n"
   ]
  },
  {
   "cell_type": "code",
   "execution_count": 88,
   "metadata": {},
   "outputs": [
    {
     "name": "stdout",
     "output_type": "stream",
     "text": [
      "************************************\n",
      "coil Id:  290044\n",
      "1055\n",
      "1054\n",
      "1031\n",
      "*********************************\n"
     ]
    },
    {
     "data": {
      "image/png": "[encoded data removed]",
      "text/plain": [
       "<Figure size 640x480 with 1 Axes>"
      ]
     },
     "metadata": {},
     "output_type": "display_data"
    }
   ],
   "source": [
    "def visualize_measurments():\n",
    "    measurement = label_observation()\n",
    "\n",
    "    b2 = measurement[0].items()\n",
    "    b3 = measurement[1].items()\n",
    "    b5 = measurement[2].items()\n",
    "    \n",
    "    \n",
    "    x_2, y_2 = zip(*b2)\n",
    "    x_3, y_3 = zip(*b3)\n",
    "    x_5, y_5 = zip(*b5)\n",
    "\n",
    "    plt.plot(x_2, y_2, color = 'r')\n",
    "    plt.plot(x_3, y_3, color = 'g')\n",
    "    plt.plot(x_5, y_5, color = 'b')\n",
    "\n",
    "    plt.show()\n",
    "visualize_measurments()\n",
    "    "
   ]
  }
 ],
 "metadata": {
  "kernelspec": {
   "display_name": "Python 3.10.0 ('mittal_env': venv)",
   "language": "python",
   "name": "python3"
  },
  "language_info": {
   "codemirror_mode": {
    "name": "ipython",
    "version": 3
   },
   "file_extension": ".py",
   "mimetype": "text/x-python",
   "name": "python",
   "nbconvert_exporter": "python",
   "pygments_lexer": "ipython3",
   "version": "3.10.0"
  },
  "orig_nbformat": 4,
  "vscode": {
   "interpreter": {
    "hash": "c5a50055adfb9cb78cc343f7664b5f8c801c8bbeaee13e9d80bd33373611d5d1"
   }
  }
 },
 "nbformat": 4,
 "nbformat_minor": 2
}
