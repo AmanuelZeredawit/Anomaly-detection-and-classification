{
 "cells": [
  {
   "cell_type": "code",
<<<<<<< HEAD
   "execution_count": 1,
=======
   "execution_count": 26,
>>>>>>> 8299b0006af617c04b9bd052b4518e992ebfa509
   "id": "566a9d2e",
   "metadata": {},
   "outputs": [],
   "source": [
    "import pandas as pd\n",
    "import numpy as np\n",
    "from sklearn.model_selection import train_test_split\n",
    "from sklearn.utils import resample\n",
    "from sklearn.metrics import accuracy_score\n",
    "from sklearn.metrics import precision_score\n",
    "from sklearn.metrics import recall_score\n",
    "from sklearn.linear_model import LogisticRegression\n",
    "from sklearn.pipeline import make_pipeline\n",
<<<<<<< HEAD
    "from sklearn import metrics\n",
    "from sklearn.pipeline import FeatureUnion, Pipeline\n",
=======
    "#from sklearn.ensemble import RandomForestRegressor\n",
    "from sklearn import metrics\n",
    "from sklearn.pipeline import Pipeline\n",
>>>>>>> 8299b0006af617c04b9bd052b4518e992ebfa509
    "from sklearn.compose import ColumnTransformer\n",
    "from sklearn.preprocessing import OrdinalEncoder\n",
    "from sklearn.preprocessing import OneHotEncoder\n",
    "from sklearn.preprocessing import StandardScaler\n",
    "from sklearn.linear_model import LogisticRegression\n",
    "from sklearn.neighbors import KNeighborsClassifier\n",
    "from sklearn.svm import SVC \n",
    "from sklearn.ensemble import RandomForestClassifier\n",
    "from sklearn.tree import DecisionTreeClassifier\n",
    "from sklearn.discriminant_analysis import QuadraticDiscriminantAnalysis\n",
    "from sklearn.model_selection import cross_val_score\n",
    "from sklearn.metrics import f1_score\n",
<<<<<<< HEAD
    "from sklearn.metrics import fbeta_score\n"
=======
    "from sklearn.metrics import fbeta_score\n",
    "#from sklearn.metrics import f2_score"
>>>>>>> 8299b0006af617c04b9bd052b4518e992ebfa509
   ]
  },
  {
   "cell_type": "code",
<<<<<<< HEAD
   "execution_count": 2,
=======
   "execution_count": 27,
>>>>>>> 8299b0006af617c04b9bd052b4518e992ebfa509
   "id": "c9e7d4b8",
   "metadata": {},
   "outputs": [],
   "source": [
    "import warnings\n",
    "warnings.filterwarnings('ignore')"
   ]
  },
  {
   "cell_type": "code",
<<<<<<< HEAD
   "execution_count": 3,
=======
   "execution_count": 28,
>>>>>>> 8299b0006af617c04b9bd052b4518e992ebfa509
   "id": "cfa0358e",
   "metadata": {},
   "outputs": [],
   "source": [
    "def preprocess_data():\n",
    "    \"\"\"\n",
    "    This function clean the dataframe\n",
    "    return the splitted train and test sets, \n",
    "    return the list of the numeric and categrial columns\n",
    "    \"\"\"\n",
    "    \n",
    "    df = pd.read_csv('data/output_1.csv')\n",
    "    df.drop(['coil','furnace Number','Temperature before finishing mill',\n",
    "             'Temperature after finishing mill','Thickness profile','Constriction_width'],axis=1, inplace = True)\n",
    "    \n",
    "    return df\n",
    "    "
   ]
  },
  {
   "cell_type": "code",
<<<<<<< HEAD
   "execution_count": 4,
=======
   "execution_count": 29,
>>>>>>> 8299b0006af617c04b9bd052b4518e992ebfa509
   "id": "a502443c",
   "metadata": {},
   "outputs": [],
   "source": [
    "def balance_sample_up():\n",
    "    df =preprocess_data()\n",
    "    # Separate majority and minority classes\n",
    "    df_majority = df[df.is_constriction == 0]\n",
    "    df_minority = df[df.is_constriction == 1]\n",
    "    \n",
    " \n",
    "    #Upsample minority class\n",
    "    df_minority_upsampled = resample(df_minority, \n",
    "                                 replace=True,     # sample with replacement\n",
    "                                 n_samples = 18845,    # to match majority class\n",
    "                                 random_state =123) # reproducible results\n",
    " \n",
    "    # Combine majority class with upsampled minority class\n",
    "    df_upsampled = pd.concat([df_majority, df_minority_upsampled])\n",
    " \n",
    "    # Display new class counts\n",
    "    print(\"Up sampled:\", df_upsampled.is_constriction.value_counts())\n",
    "    \n",
    "\n",
    "    y = df_upsampled.is_constriction\n",
    "    X = df_upsampled.drop('is_constriction', axis=1)\n",
    "\n",
    "    X_train, X_test, y_train, y_test = train_test_split(X,y,test_size=1/5,random_state=0) \n",
    "    return X_train, X_test, y_train, y_test, df_upsampled\n",
    "\n",
    "\n",
    "\n"
   ]
  },
  {
   "cell_type": "code",
<<<<<<< HEAD
   "execution_count": 5,
=======
   "execution_count": 30,
>>>>>>> 8299b0006af617c04b9bd052b4518e992ebfa509
   "id": "288f6a98",
   "metadata": {},
   "outputs": [],
   "source": [
    "def balance_sample_down():\n",
    "    df =preprocess_data()\n",
    "    # Separate majority and minority classes\n",
    "    df_majority = df[df.is_constriction == 0]\n",
    "    df_minority = df[df.is_constriction == 1]\n",
    "    \n",
    " \n",
    "    #downsample majority class\n",
    "    df_majority_downsampled = resample(df_majority, \n",
    "                                 replace=False,     # sample with replacement\n",
    "                                 n_samples = 1725,    # to match majority class\n",
    "                                 random_state =123) # reproducible results\n",
    " \n",
    "    # Combine majority class with upsampled minority class\n",
    "    df_downsampled = pd.concat([df_majority_downsampled, df_minority])\n",
    " \n",
    "    # Display new class counts\n",
    "    print(\"Down sampled: \", df_downsampled.is_constriction.value_counts())\n",
    "\n",
    "    y = df_downsampled.is_constriction\n",
    "    X = df_downsampled.drop('is_constriction', axis=1)\n",
    "\n",
    "    X_train, X_test, y_train, y_test = train_test_split(X,y,test_size=1/5,random_state=0) \n",
    "\n",
    "    return X_train, X_test, y_train, y_test, df_downsampled\n",
    "\n",
    "\n",
<<<<<<< HEAD
    "\n"
=======
    "#balance_sample()\n"
>>>>>>> 8299b0006af617c04b9bd052b4518e992ebfa509
   ]
  },
  {
   "cell_type": "code",
<<<<<<< HEAD
   "execution_count": 6,
=======
   "execution_count": 31,
>>>>>>> 8299b0006af617c04b9bd052b4518e992ebfa509
   "id": "10e7f99a",
   "metadata": {},
   "outputs": [],
   "source": [
    "def build_model(model,df):\n",
    "\n",
    "    num_attribs = df.select_dtypes(include=np.number).columns.tolist() \n",
    "    remove_attribs =['coil','is_constriction']\n",
    "    num_attribs = [i for i in num_attribs if i not in remove_attribs]\n",
    "    cat_attribs = ['analyse']\n",
    "    \n",
    "    num_tr_pipeline = Pipeline([\n",
    "        ('std_scaler', StandardScaler()),])\n",
    "    \n",
    "    cat_tr_pipeline = Pipeline([\n",
    "        ('one_hot_encoder', OneHotEncoder(sparse=False, handle_unknown='ignore')),])\n",
    "    preprocessors = ColumnTransformer([\n",
    "        (\"num_tr_pipeline\", num_tr_pipeline, num_attribs),\n",
    "        (\"cat_tr_pipeline\", cat_tr_pipeline, cat_attribs),])\n",
    "    \n",
    "    pipe =Pipeline([\n",
    "    ('prepocessors',preprocessors),\n",
    "    ('classifier_model',model),])\n",
    "    \n",
    "    return pipe"
   ]
  },
  {
   "cell_type": "code",
<<<<<<< HEAD
   "execution_count": 7,
=======
   "execution_count": 32,
>>>>>>> 8299b0006af617c04b9bd052b4518e992ebfa509
   "id": "f48c53d7",
   "metadata": {},
   "outputs": [],
   "source": [
    "def evaluate_models(balance_method):\n",
    "\n",
    "    result = [] \n",
    "\n",
    "    if balance_method == 'up_sampling':\n",
    "        print('Model with up sampled minority class')\n",
    "        X_train, X_test, y_train, y_test,df = balance_sample_up()\n",
    "    else:\n",
    "        print(\"Model with down sampled majority class\")\n",
    "        X_train, X_test, y_train, y_test,df = balance_sample_down()\n",
    "\n",
    "    \n",
    "    models = {\"Logestic_Regression\": LogisticRegression(solver = 'liblinear'),\n",
    "              \"Random_Forest\": RandomForestClassifier(n_estimators=200),\n",
    "              \"Random_Forest_grid\": RandomForestClassifier( max_depth=8, max_features= 1.0, n_estimators= 10),\n",
    "              \"knn\": KNeighborsClassifier(n_neighbors=5,p=3,metric ='euclidean'),\n",
    "              'SVM': SVC(kernel='linear'),\n",
<<<<<<< HEAD
    "              \"Quadratic Discriminant\": QuadraticDiscriminantAnalysis(reg_param = 0.9)\n",
    "               }\n",
=======
    "              \"Quadratic Discriminant\": QuadraticDiscriminantAnalysis(reg_param = 0.9) }\n",
>>>>>>> 8299b0006af617c04b9bd052b4518e992ebfa509
    "    \n",
    "    \n",
    "    for model_name, model in models.items():\n",
    "        print(f\"{model_name} is built\")\n",
    "        pipe = build_model(model, df)\n",
    "        pipe.fit(X_train,y_train)\n",
    "        y_pred = pipe.predict(X_test)\n",
<<<<<<< HEAD
=======
    "        \n",
>>>>>>> 8299b0006af617c04b9bd052b4518e992ebfa509
    "        score = pipe.score(X_test, y_test)\n",
    "        cm = metrics.confusion_matrix(y_test, y_pred) # confusion matrix\n",
    "        f1 = f1_score(y_test, y_pred)\n",
    "        f2 = fbeta_score(y_test, y_pred, beta=2, average='binary')\n",
    "        f_beta = fbeta_score(y_test, y_pred, average='macro', beta=0.5)\n",
    "\n",
    "        result.append({\"Model\":model_name, \"Score\":score, 'Confusion_matrix':cm, \n",
    "                       'F1_score':f1, 'F2_score':f2, 'Fbeta_score':f_beta})\n",
    "        \n",
    "    result_df = pd.DataFrame(result)\n",
    "    \n",
    "    return result_df\n",
    "        \n",
    "        \n",
    "    "
   ]
  },
  {
   "cell_type": "code",
<<<<<<< HEAD
   "execution_count": 8,
=======
   "execution_count": 33,
>>>>>>> 8299b0006af617c04b9bd052b4518e992ebfa509
   "id": "cb492f5a",
   "metadata": {},
   "outputs": [
    {
     "name": "stdout",
     "output_type": "stream",
     "text": [
      "Model with up sampled minority class\n",
      "Up sampled: 0    18845\n",
      "1    18845\n",
      "Name: is_constriction, dtype: int64\n",
      "Logestic_Regression is built\n",
      "Random_Forest is built\n",
      "Random_Forest_grid is built\n",
      "knn is built\n",
      "SVM is built\n",
      "Quadratic Discriminant is built\n"
     ]
    },
    {
     "data": {
      "text/html": [
       "<div>\n",
       "<style scoped>\n",
       "    .dataframe tbody tr th:only-of-type {\n",
       "        vertical-align: middle;\n",
       "    }\n",
       "\n",
       "    .dataframe tbody tr th {\n",
       "        vertical-align: top;\n",
       "    }\n",
       "\n",
       "    .dataframe thead th {\n",
       "        text-align: right;\n",
       "    }\n",
       "</style>\n",
       "<table border=\"1\" class=\"dataframe\">\n",
       "  <thead>\n",
       "    <tr style=\"text-align: right;\">\n",
       "      <th></th>\n",
       "      <th>Model</th>\n",
       "      <th>Score</th>\n",
       "      <th>Confusion_matrix</th>\n",
       "      <th>F1_score</th>\n",
       "      <th>F2_score</th>\n",
       "      <th>Fbeta_score</th>\n",
       "    </tr>\n",
       "  </thead>\n",
       "  <tbody>\n",
       "    <tr>\n",
       "      <th>0</th>\n",
       "      <td>Logestic_Regression</td>\n",
       "      <td>0.786415</td>\n",
       "      <td>[[2899, 796], [814, 3029]]</td>\n",
       "      <td>0.790037</td>\n",
       "      <td>0.788925</td>\n",
       "      <td>0.786339</td>\n",
       "    </tr>\n",
       "    <tr>\n",
       "      <th>1</th>\n",
       "      <td>Random_Forest</td>\n",
       "      <td>0.984213</td>\n",
       "      <td>[[3576, 119], [0, 3843]]</td>\n",
       "      <td>0.984753</td>\n",
       "      <td>0.993845</td>\n",
       "      <td>0.984608</td>\n",
       "    </tr>\n",
       "    <tr>\n",
       "      <th>2</th>\n",
       "      <td>Random_Forest_grid</td>\n",
<<<<<<< HEAD
       "      <td>0.875431</td>\n",
       "      <td>[[3357, 338], [601, 3242]]</td>\n",
       "      <td>0.873501</td>\n",
       "      <td>0.855319</td>\n",
       "      <td>0.876026</td>\n",
=======
       "      <td>0.875696</td>\n",
       "      <td>[[3349, 346], [591, 3252]]</td>\n",
       "      <td>0.874076</td>\n",
       "      <td>0.857143</td>\n",
       "      <td>0.876198</td>\n",
>>>>>>> 8299b0006af617c04b9bd052b4518e992ebfa509
       "    </tr>\n",
       "    <tr>\n",
       "      <th>3</th>\n",
       "      <td>knn</td>\n",
       "      <td>0.945344</td>\n",
       "      <td>[[3293, 402], [10, 3833]]</td>\n",
       "      <td>0.948997</td>\n",
       "      <td>0.977457</td>\n",
       "      <td>0.948002</td>\n",
       "    </tr>\n",
       "    <tr>\n",
       "      <th>4</th>\n",
       "      <td>SVM</td>\n",
       "      <td>0.791324</td>\n",
       "      <td>[[2878, 817], [756, 3087]]</td>\n",
       "      <td>0.796954</td>\n",
       "      <td>0.800737</td>\n",
       "      <td>0.791261</td>\n",
       "    </tr>\n",
       "  </tbody>\n",
       "</table>\n",
       "</div>"
      ],
      "text/plain": [
       "                 Model     Score            Confusion_matrix  F1_score  \\\n",
       "0  Logestic_Regression  0.786415  [[2899, 796], [814, 3029]]  0.790037   \n",
       "1        Random_Forest  0.984213    [[3576, 119], [0, 3843]]  0.984753   \n",
<<<<<<< HEAD
       "2   Random_Forest_grid  0.875431  [[3357, 338], [601, 3242]]  0.873501   \n",
=======
       "2   Random_Forest_grid  0.875696  [[3349, 346], [591, 3252]]  0.874076   \n",
>>>>>>> 8299b0006af617c04b9bd052b4518e992ebfa509
       "3                  knn  0.945344   [[3293, 402], [10, 3833]]  0.948997   \n",
       "4                  SVM  0.791324  [[2878, 817], [756, 3087]]  0.796954   \n",
       "\n",
       "   F2_score  Fbeta_score  \n",
       "0  0.788925     0.786339  \n",
       "1  0.993845     0.984608  \n",
<<<<<<< HEAD
       "2  0.855319     0.876026  \n",
=======
       "2  0.857143     0.876198  \n",
>>>>>>> 8299b0006af617c04b9bd052b4518e992ebfa509
       "3  0.977457     0.948002  \n",
       "4  0.800737     0.791261  "
      ]
     },
<<<<<<< HEAD
     "execution_count": 8,
=======
     "execution_count": 33,
>>>>>>> 8299b0006af617c04b9bd052b4518e992ebfa509
     "metadata": {},
     "output_type": "execute_result"
    }
   ],
   "source": [
    "\n",
    "test1_matrix = evaluate_models('up_sampling')\n",
    "test1_matrix.head()\n",
    "    "
   ]
  },
  {
   "cell_type": "code",
<<<<<<< HEAD
   "execution_count": 9,
=======
   "execution_count": 34,
>>>>>>> 8299b0006af617c04b9bd052b4518e992ebfa509
   "id": "bd3dcbdf",
   "metadata": {},
   "outputs": [
    {
     "name": "stdout",
     "output_type": "stream",
     "text": [
      "Model with down sampled majority class\n",
      "Down sampled:  0    1725\n",
      "1    1725\n",
      "Name: is_constriction, dtype: int64\n",
      "Logestic_Regression is built\n",
      "Random_Forest is built\n",
      "Random_Forest_grid is built\n",
      "knn is built\n",
      "SVM is built\n",
      "Quadratic Discriminant is built\n"
     ]
    },
    {
     "data": {
      "text/html": [
       "<div>\n",
       "<style scoped>\n",
       "    .dataframe tbody tr th:only-of-type {\n",
       "        vertical-align: middle;\n",
       "    }\n",
       "\n",
       "    .dataframe tbody tr th {\n",
       "        vertical-align: top;\n",
       "    }\n",
       "\n",
       "    .dataframe thead th {\n",
       "        text-align: right;\n",
       "    }\n",
       "</style>\n",
       "<table border=\"1\" class=\"dataframe\">\n",
       "  <thead>\n",
       "    <tr style=\"text-align: right;\">\n",
       "      <th></th>\n",
       "      <th>Model</th>\n",
       "      <th>Score</th>\n",
       "      <th>Confusion_matrix</th>\n",
       "      <th>F1_score</th>\n",
       "      <th>F2_score</th>\n",
       "      <th>Fbeta_score</th>\n",
       "    </tr>\n",
       "  </thead>\n",
       "  <tbody>\n",
       "    <tr>\n",
       "      <th>0</th>\n",
       "      <td>Logestic_Regression</td>\n",
       "      <td>0.772464</td>\n",
       "      <td>[[272, 84], [73, 261]]</td>\n",
       "      <td>0.768778</td>\n",
       "      <td>0.776324</td>\n",
       "      <td>0.772394</td>\n",
       "    </tr>\n",
       "    <tr>\n",
       "      <th>1</th>\n",
       "      <td>Random_Forest</td>\n",
<<<<<<< HEAD
       "      <td>0.842029</td>\n",
       "      <td>[[299, 57], [52, 282]]</td>\n",
       "      <td>0.838039</td>\n",
       "      <td>0.841791</td>\n",
       "      <td>0.841876</td>\n",
=======
       "      <td>0.834783</td>\n",
       "      <td>[[300, 56], [58, 276]]</td>\n",
       "      <td>0.828829</td>\n",
       "      <td>0.827338</td>\n",
       "      <td>0.834626</td>\n",
>>>>>>> 8299b0006af617c04b9bd052b4518e992ebfa509
       "    </tr>\n",
       "    <tr>\n",
       "      <th>2</th>\n",
       "      <td>Random_Forest_grid</td>\n",
<<<<<<< HEAD
       "      <td>0.826087</td>\n",
       "      <td>[[299, 57], [63, 271]]</td>\n",
       "      <td>0.818731</td>\n",
       "      <td>0.814303</td>\n",
       "      <td>0.825961</td>\n",
=======
       "      <td>0.827536</td>\n",
       "      <td>[[303, 53], [66, 268]]</td>\n",
       "      <td>0.818321</td>\n",
       "      <td>0.808690</td>\n",
       "      <td>0.827574</td>\n",
>>>>>>> 8299b0006af617c04b9bd052b4518e992ebfa509
       "    </tr>\n",
       "    <tr>\n",
       "      <th>3</th>\n",
       "      <td>knn</td>\n",
       "      <td>0.811594</td>\n",
       "      <td>[[295, 61], [69, 265]]</td>\n",
       "      <td>0.803030</td>\n",
       "      <td>0.797232</td>\n",
       "      <td>0.811465</td>\n",
       "    </tr>\n",
       "    <tr>\n",
       "      <th>4</th>\n",
       "      <td>SVM</td>\n",
       "      <td>0.766667</td>\n",
       "      <td>[[271, 85], [76, 258]]</td>\n",
       "      <td>0.762186</td>\n",
       "      <td>0.768314</td>\n",
       "      <td>0.766552</td>\n",
       "    </tr>\n",
       "  </tbody>\n",
       "</table>\n",
       "</div>"
      ],
      "text/plain": [
       "                 Model     Score        Confusion_matrix  F1_score  F2_score  \\\n",
       "0  Logestic_Regression  0.772464  [[272, 84], [73, 261]]  0.768778  0.776324   \n",
<<<<<<< HEAD
       "1        Random_Forest  0.842029  [[299, 57], [52, 282]]  0.838039  0.841791   \n",
       "2   Random_Forest_grid  0.826087  [[299, 57], [63, 271]]  0.818731  0.814303   \n",
=======
       "1        Random_Forest  0.834783  [[300, 56], [58, 276]]  0.828829  0.827338   \n",
       "2   Random_Forest_grid  0.827536  [[303, 53], [66, 268]]  0.818321  0.808690   \n",
>>>>>>> 8299b0006af617c04b9bd052b4518e992ebfa509
       "3                  knn  0.811594  [[295, 61], [69, 265]]  0.803030  0.797232   \n",
       "4                  SVM  0.766667  [[271, 85], [76, 258]]  0.762186  0.768314   \n",
       "\n",
       "   Fbeta_score  \n",
       "0     0.772394  \n",
<<<<<<< HEAD
       "1     0.841876  \n",
       "2     0.825961  \n",
=======
       "1     0.834626  \n",
       "2     0.827574  \n",
>>>>>>> 8299b0006af617c04b9bd052b4518e992ebfa509
       "3     0.811465  \n",
       "4     0.766552  "
      ]
     },
<<<<<<< HEAD
     "execution_count": 9,
=======
     "execution_count": 34,
>>>>>>> 8299b0006af617c04b9bd052b4518e992ebfa509
     "metadata": {},
     "output_type": "execute_result"
    }
   ],
   "source": [
    "test2_matrix = evaluate_models('down_sampling')\n",
    "test2_matrix.head()"
   ]
  },
  {
   "cell_type": "code",
   "execution_count": null,
   "id": "591e61de",
   "metadata": {},
   "outputs": [],
   "source": []
  }
 ],
 "metadata": {
  "kernelspec": {
   "display_name": "Python 3.10.0 ('mittal_env': venv)",
   "language": "python",
   "name": "python3"
  },
  "language_info": {
   "codemirror_mode": {
    "name": "ipython",
    "version": 3
   },
   "file_extension": ".py",
   "mimetype": "text/x-python",
   "name": "python",
   "nbconvert_exporter": "python",
   "pygments_lexer": "ipython3",
   "version": "3.10.0"
  },
  "vscode": {
   "interpreter": {
    "hash": "97b8a450051de11ca571522d04ce2bc7e0cc66366ccc887c2db49044291f3857"
   }
  }
 },
 "nbformat": 4,
 "nbformat_minor": 5
}
